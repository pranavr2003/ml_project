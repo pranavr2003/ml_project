{
  "cells": [
    {
      "cell_type": "markdown",
      "source": [
        "# Exploratory Data Analysis"
      ],
      "metadata": {
        "id": "mm7KAofmeNJp"
      }
    },
    {
      "cell_type": "code",
      "execution_count": 1,
      "metadata": {
        "id": "w6eLmHfHLzCO"
      },
      "outputs": [],
      "source": [
        "import numpy as np\n",
        "import pandas as pd\n",
        "import matplotlib.pyplot as plt\n",
        "import seaborn as sns"
      ]
    },
    {
      "cell_type": "code",
      "execution_count": 2,
      "metadata": {
        "colab": {
          "base_uri": "https://localhost:8080/",
          "height": 299
        },
        "id": "DkJq4prdLzCR",
        "outputId": "e3c075b3-3393-4fd0-8704-c931fafa5c4b"
      },
      "outputs": [
        {
          "output_type": "execute_result",
          "data": {
            "text/plain": [
              "   number_of_elements  mean_atomic_mass  wtd_mean_atomic_mass  \\\n",
              "0                   4         88.944468             57.862692   \n",
              "1                   5         92.729214             58.518416   \n",
              "2                   4         88.944468             57.885242   \n",
              "3                   4         88.944468             57.873967   \n",
              "4                   4         88.944468             57.840143   \n",
              "\n",
              "   gmean_atomic_mass  wtd_gmean_atomic_mass  entropy_atomic_mass  \\\n",
              "0          66.361592              36.116612             1.181795   \n",
              "1          73.132787              36.396602             1.449309   \n",
              "2          66.361592              36.122509             1.181795   \n",
              "3          66.361592              36.119560             1.181795   \n",
              "4          66.361592              36.110716             1.181795   \n",
              "\n",
              "   wtd_entropy_atomic_mass  range_atomic_mass  wtd_range_atomic_mass  \\\n",
              "0                 1.062396          122.90607              31.794921   \n",
              "1                 1.057755          122.90607              36.161939   \n",
              "2                 0.975980          122.90607              35.741099   \n",
              "3                 1.022291          122.90607              33.768010   \n",
              "4                 1.129224          122.90607              27.848743   \n",
              "\n",
              "   std_atomic_mass  ...  wtd_mean_Valence  gmean_Valence  wtd_gmean_Valence  \\\n",
              "0        51.968828  ...          2.257143       2.213364           2.219783   \n",
              "1        47.094633  ...          2.257143       1.888175           2.210679   \n",
              "2        51.968828  ...          2.271429       2.213364           2.232679   \n",
              "3        51.968828  ...          2.264286       2.213364           2.226222   \n",
              "4        51.968828  ...          2.242857       2.213364           2.206963   \n",
              "\n",
              "   entropy_Valence  wtd_entropy_Valence  range_Valence  wtd_range_Valence  \\\n",
              "0         1.368922             1.066221              1           1.085714   \n",
              "1         1.557113             1.047221              2           1.128571   \n",
              "2         1.368922             1.029175              1           1.114286   \n",
              "3         1.368922             1.048834              1           1.100000   \n",
              "4         1.368922             1.096052              1           1.057143   \n",
              "\n",
              "   std_Valence  wtd_std_Valence  critical_temp  \n",
              "0     0.433013         0.437059           29.0  \n",
              "1     0.632456         0.468606           26.0  \n",
              "2     0.433013         0.444697           19.0  \n",
              "3     0.433013         0.440952           22.0  \n",
              "4     0.433013         0.428809           23.0  \n",
              "\n",
              "[5 rows x 82 columns]"
            ],
            "text/html": [
              "\n",
              "  <div id=\"df-d0b57dc1-9d04-4a72-b362-2b5136c17a77\">\n",
              "    <div class=\"colab-df-container\">\n",
              "      <div>\n",
              "<style scoped>\n",
              "    .dataframe tbody tr th:only-of-type {\n",
              "        vertical-align: middle;\n",
              "    }\n",
              "\n",
              "    .dataframe tbody tr th {\n",
              "        vertical-align: top;\n",
              "    }\n",
              "\n",
              "    .dataframe thead th {\n",
              "        text-align: right;\n",
              "    }\n",
              "</style>\n",
              "<table border=\"1\" class=\"dataframe\">\n",
              "  <thead>\n",
              "    <tr style=\"text-align: right;\">\n",
              "      <th></th>\n",
              "      <th>number_of_elements</th>\n",
              "      <th>mean_atomic_mass</th>\n",
              "      <th>wtd_mean_atomic_mass</th>\n",
              "      <th>gmean_atomic_mass</th>\n",
              "      <th>wtd_gmean_atomic_mass</th>\n",
              "      <th>entropy_atomic_mass</th>\n",
              "      <th>wtd_entropy_atomic_mass</th>\n",
              "      <th>range_atomic_mass</th>\n",
              "      <th>wtd_range_atomic_mass</th>\n",
              "      <th>std_atomic_mass</th>\n",
              "      <th>...</th>\n",
              "      <th>wtd_mean_Valence</th>\n",
              "      <th>gmean_Valence</th>\n",
              "      <th>wtd_gmean_Valence</th>\n",
              "      <th>entropy_Valence</th>\n",
              "      <th>wtd_entropy_Valence</th>\n",
              "      <th>range_Valence</th>\n",
              "      <th>wtd_range_Valence</th>\n",
              "      <th>std_Valence</th>\n",
              "      <th>wtd_std_Valence</th>\n",
              "      <th>critical_temp</th>\n",
              "    </tr>\n",
              "  </thead>\n",
              "  <tbody>\n",
              "    <tr>\n",
              "      <th>0</th>\n",
              "      <td>4</td>\n",
              "      <td>88.944468</td>\n",
              "      <td>57.862692</td>\n",
              "      <td>66.361592</td>\n",
              "      <td>36.116612</td>\n",
              "      <td>1.181795</td>\n",
              "      <td>1.062396</td>\n",
              "      <td>122.90607</td>\n",
              "      <td>31.794921</td>\n",
              "      <td>51.968828</td>\n",
              "      <td>...</td>\n",
              "      <td>2.257143</td>\n",
              "      <td>2.213364</td>\n",
              "      <td>2.219783</td>\n",
              "      <td>1.368922</td>\n",
              "      <td>1.066221</td>\n",
              "      <td>1</td>\n",
              "      <td>1.085714</td>\n",
              "      <td>0.433013</td>\n",
              "      <td>0.437059</td>\n",
              "      <td>29.0</td>\n",
              "    </tr>\n",
              "    <tr>\n",
              "      <th>1</th>\n",
              "      <td>5</td>\n",
              "      <td>92.729214</td>\n",
              "      <td>58.518416</td>\n",
              "      <td>73.132787</td>\n",
              "      <td>36.396602</td>\n",
              "      <td>1.449309</td>\n",
              "      <td>1.057755</td>\n",
              "      <td>122.90607</td>\n",
              "      <td>36.161939</td>\n",
              "      <td>47.094633</td>\n",
              "      <td>...</td>\n",
              "      <td>2.257143</td>\n",
              "      <td>1.888175</td>\n",
              "      <td>2.210679</td>\n",
              "      <td>1.557113</td>\n",
              "      <td>1.047221</td>\n",
              "      <td>2</td>\n",
              "      <td>1.128571</td>\n",
              "      <td>0.632456</td>\n",
              "      <td>0.468606</td>\n",
              "      <td>26.0</td>\n",
              "    </tr>\n",
              "    <tr>\n",
              "      <th>2</th>\n",
              "      <td>4</td>\n",
              "      <td>88.944468</td>\n",
              "      <td>57.885242</td>\n",
              "      <td>66.361592</td>\n",
              "      <td>36.122509</td>\n",
              "      <td>1.181795</td>\n",
              "      <td>0.975980</td>\n",
              "      <td>122.90607</td>\n",
              "      <td>35.741099</td>\n",
              "      <td>51.968828</td>\n",
              "      <td>...</td>\n",
              "      <td>2.271429</td>\n",
              "      <td>2.213364</td>\n",
              "      <td>2.232679</td>\n",
              "      <td>1.368922</td>\n",
              "      <td>1.029175</td>\n",
              "      <td>1</td>\n",
              "      <td>1.114286</td>\n",
              "      <td>0.433013</td>\n",
              "      <td>0.444697</td>\n",
              "      <td>19.0</td>\n",
              "    </tr>\n",
              "    <tr>\n",
              "      <th>3</th>\n",
              "      <td>4</td>\n",
              "      <td>88.944468</td>\n",
              "      <td>57.873967</td>\n",
              "      <td>66.361592</td>\n",
              "      <td>36.119560</td>\n",
              "      <td>1.181795</td>\n",
              "      <td>1.022291</td>\n",
              "      <td>122.90607</td>\n",
              "      <td>33.768010</td>\n",
              "      <td>51.968828</td>\n",
              "      <td>...</td>\n",
              "      <td>2.264286</td>\n",
              "      <td>2.213364</td>\n",
              "      <td>2.226222</td>\n",
              "      <td>1.368922</td>\n",
              "      <td>1.048834</td>\n",
              "      <td>1</td>\n",
              "      <td>1.100000</td>\n",
              "      <td>0.433013</td>\n",
              "      <td>0.440952</td>\n",
              "      <td>22.0</td>\n",
              "    </tr>\n",
              "    <tr>\n",
              "      <th>4</th>\n",
              "      <td>4</td>\n",
              "      <td>88.944468</td>\n",
              "      <td>57.840143</td>\n",
              "      <td>66.361592</td>\n",
              "      <td>36.110716</td>\n",
              "      <td>1.181795</td>\n",
              "      <td>1.129224</td>\n",
              "      <td>122.90607</td>\n",
              "      <td>27.848743</td>\n",
              "      <td>51.968828</td>\n",
              "      <td>...</td>\n",
              "      <td>2.242857</td>\n",
              "      <td>2.213364</td>\n",
              "      <td>2.206963</td>\n",
              "      <td>1.368922</td>\n",
              "      <td>1.096052</td>\n",
              "      <td>1</td>\n",
              "      <td>1.057143</td>\n",
              "      <td>0.433013</td>\n",
              "      <td>0.428809</td>\n",
              "      <td>23.0</td>\n",
              "    </tr>\n",
              "  </tbody>\n",
              "</table>\n",
              "<p>5 rows × 82 columns</p>\n",
              "</div>\n",
              "      <button class=\"colab-df-convert\" onclick=\"convertToInteractive('df-d0b57dc1-9d04-4a72-b362-2b5136c17a77')\"\n",
              "              title=\"Convert this dataframe to an interactive table.\"\n",
              "              style=\"display:none;\">\n",
              "        \n",
              "  <svg xmlns=\"http://www.w3.org/2000/svg\" height=\"24px\"viewBox=\"0 0 24 24\"\n",
              "       width=\"24px\">\n",
              "    <path d=\"M0 0h24v24H0V0z\" fill=\"none\"/>\n",
              "    <path d=\"M18.56 5.44l.94 2.06.94-2.06 2.06-.94-2.06-.94-.94-2.06-.94 2.06-2.06.94zm-11 1L8.5 8.5l.94-2.06 2.06-.94-2.06-.94L8.5 2.5l-.94 2.06-2.06.94zm10 10l.94 2.06.94-2.06 2.06-.94-2.06-.94-.94-2.06-.94 2.06-2.06.94z\"/><path d=\"M17.41 7.96l-1.37-1.37c-.4-.4-.92-.59-1.43-.59-.52 0-1.04.2-1.43.59L10.3 9.45l-7.72 7.72c-.78.78-.78 2.05 0 2.83L4 21.41c.39.39.9.59 1.41.59.51 0 1.02-.2 1.41-.59l7.78-7.78 2.81-2.81c.8-.78.8-2.07 0-2.86zM5.41 20L4 18.59l7.72-7.72 1.47 1.35L5.41 20z\"/>\n",
              "  </svg>\n",
              "      </button>\n",
              "      \n",
              "  <style>\n",
              "    .colab-df-container {\n",
              "      display:flex;\n",
              "      flex-wrap:wrap;\n",
              "      gap: 12px;\n",
              "    }\n",
              "\n",
              "    .colab-df-convert {\n",
              "      background-color: #E8F0FE;\n",
              "      border: none;\n",
              "      border-radius: 50%;\n",
              "      cursor: pointer;\n",
              "      display: none;\n",
              "      fill: #1967D2;\n",
              "      height: 32px;\n",
              "      padding: 0 0 0 0;\n",
              "      width: 32px;\n",
              "    }\n",
              "\n",
              "    .colab-df-convert:hover {\n",
              "      background-color: #E2EBFA;\n",
              "      box-shadow: 0px 1px 2px rgba(60, 64, 67, 0.3), 0px 1px 3px 1px rgba(60, 64, 67, 0.15);\n",
              "      fill: #174EA6;\n",
              "    }\n",
              "\n",
              "    [theme=dark] .colab-df-convert {\n",
              "      background-color: #3B4455;\n",
              "      fill: #D2E3FC;\n",
              "    }\n",
              "\n",
              "    [theme=dark] .colab-df-convert:hover {\n",
              "      background-color: #434B5C;\n",
              "      box-shadow: 0px 1px 3px 1px rgba(0, 0, 0, 0.15);\n",
              "      filter: drop-shadow(0px 1px 2px rgba(0, 0, 0, 0.3));\n",
              "      fill: #FFFFFF;\n",
              "    }\n",
              "  </style>\n",
              "\n",
              "      <script>\n",
              "        const buttonEl =\n",
              "          document.querySelector('#df-d0b57dc1-9d04-4a72-b362-2b5136c17a77 button.colab-df-convert');\n",
              "        buttonEl.style.display =\n",
              "          google.colab.kernel.accessAllowed ? 'block' : 'none';\n",
              "\n",
              "        async function convertToInteractive(key) {\n",
              "          const element = document.querySelector('#df-d0b57dc1-9d04-4a72-b362-2b5136c17a77');\n",
              "          const dataTable =\n",
              "            await google.colab.kernel.invokeFunction('convertToInteractive',\n",
              "                                                     [key], {});\n",
              "          if (!dataTable) return;\n",
              "\n",
              "          const docLinkHtml = 'Like what you see? Visit the ' +\n",
              "            '<a target=\"_blank\" href=https://colab.research.google.com/notebooks/data_table.ipynb>data table notebook</a>'\n",
              "            + ' to learn more about interactive tables.';\n",
              "          element.innerHTML = '';\n",
              "          dataTable['output_type'] = 'display_data';\n",
              "          await google.colab.output.renderOutput(dataTable, element);\n",
              "          const docLink = document.createElement('div');\n",
              "          docLink.innerHTML = docLinkHtml;\n",
              "          element.appendChild(docLink);\n",
              "        }\n",
              "      </script>\n",
              "    </div>\n",
              "  </div>\n",
              "  "
            ]
          },
          "metadata": {},
          "execution_count": 2
        }
      ],
      "source": [
        "data = pd.read_csv('train.csv')   # Read the CSV file into a Pandas Dataframe\n",
        "data.head()   # Peak into the first 5 rows of the dataset"
      ]
    },
    {
      "cell_type": "code",
      "execution_count": 3,
      "metadata": {
        "colab": {
          "base_uri": "https://localhost:8080/"
        },
        "id": "29-1uNYyMucv",
        "outputId": "1b673851-8426-40d0-e0cf-6c105987c250"
      },
      "outputs": [
        {
          "output_type": "execute_result",
          "data": {
            "text/plain": [
              "(21263, 82)"
            ]
          },
          "metadata": {},
          "execution_count": 3
        }
      ],
      "source": [
        "data.shape    # Shape (rows, columns) of the dataset"
      ]
    },
    {
      "cell_type": "code",
      "execution_count": 4,
      "metadata": {
        "id": "Td7wZpapLzCU",
        "colab": {
          "base_uri": "https://localhost:8080/"
        },
        "outputId": "44fc3607-cae4-4abf-9987-96b5d9e6b22e"
      },
      "outputs": [
        {
          "output_type": "stream",
          "name": "stdout",
          "text": [
            "<class 'pandas.core.frame.DataFrame'>\n",
            "RangeIndex: 21263 entries, 0 to 21262\n",
            "Data columns (total 82 columns):\n",
            " #   Column                           Non-Null Count  Dtype  \n",
            "---  ------                           --------------  -----  \n",
            " 0   number_of_elements               21263 non-null  int64  \n",
            " 1   mean_atomic_mass                 21263 non-null  float64\n",
            " 2   wtd_mean_atomic_mass             21263 non-null  float64\n",
            " 3   gmean_atomic_mass                21263 non-null  float64\n",
            " 4   wtd_gmean_atomic_mass            21263 non-null  float64\n",
            " 5   entropy_atomic_mass              21263 non-null  float64\n",
            " 6   wtd_entropy_atomic_mass          21263 non-null  float64\n",
            " 7   range_atomic_mass                21263 non-null  float64\n",
            " 8   wtd_range_atomic_mass            21263 non-null  float64\n",
            " 9   std_atomic_mass                  21263 non-null  float64\n",
            " 10  wtd_std_atomic_mass              21263 non-null  float64\n",
            " 11  mean_fie                         21263 non-null  float64\n",
            " 12  wtd_mean_fie                     21263 non-null  float64\n",
            " 13  gmean_fie                        21263 non-null  float64\n",
            " 14  wtd_gmean_fie                    21263 non-null  float64\n",
            " 15  entropy_fie                      21263 non-null  float64\n",
            " 16  wtd_entropy_fie                  21263 non-null  float64\n",
            " 17  range_fie                        21263 non-null  float64\n",
            " 18  wtd_range_fie                    21263 non-null  float64\n",
            " 19  std_fie                          21263 non-null  float64\n",
            " 20  wtd_std_fie                      21263 non-null  float64\n",
            " 21  mean_atomic_radius               21263 non-null  float64\n",
            " 22  wtd_mean_atomic_radius           21263 non-null  float64\n",
            " 23  gmean_atomic_radius              21263 non-null  float64\n",
            " 24  wtd_gmean_atomic_radius          21263 non-null  float64\n",
            " 25  entropy_atomic_radius            21263 non-null  float64\n",
            " 26  wtd_entropy_atomic_radius        21263 non-null  float64\n",
            " 27  range_atomic_radius              21263 non-null  int64  \n",
            " 28  wtd_range_atomic_radius          21263 non-null  float64\n",
            " 29  std_atomic_radius                21263 non-null  float64\n",
            " 30  wtd_std_atomic_radius            21263 non-null  float64\n",
            " 31  mean_Density                     21263 non-null  float64\n",
            " 32  wtd_mean_Density                 21263 non-null  float64\n",
            " 33  gmean_Density                    21263 non-null  float64\n",
            " 34  wtd_gmean_Density                21263 non-null  float64\n",
            " 35  entropy_Density                  21263 non-null  float64\n",
            " 36  wtd_entropy_Density              21263 non-null  float64\n",
            " 37  range_Density                    21263 non-null  float64\n",
            " 38  wtd_range_Density                21263 non-null  float64\n",
            " 39  std_Density                      21263 non-null  float64\n",
            " 40  wtd_std_Density                  21263 non-null  float64\n",
            " 41  mean_ElectronAffinity            21263 non-null  float64\n",
            " 42  wtd_mean_ElectronAffinity        21263 non-null  float64\n",
            " 43  gmean_ElectronAffinity           21263 non-null  float64\n",
            " 44  wtd_gmean_ElectronAffinity       21263 non-null  float64\n",
            " 45  entropy_ElectronAffinity         21263 non-null  float64\n",
            " 46  wtd_entropy_ElectronAffinity     21263 non-null  float64\n",
            " 47  range_ElectronAffinity           21263 non-null  float64\n",
            " 48  wtd_range_ElectronAffinity       21263 non-null  float64\n",
            " 49  std_ElectronAffinity             21263 non-null  float64\n",
            " 50  wtd_std_ElectronAffinity         21263 non-null  float64\n",
            " 51  mean_FusionHeat                  21263 non-null  float64\n",
            " 52  wtd_mean_FusionHeat              21263 non-null  float64\n",
            " 53  gmean_FusionHeat                 21263 non-null  float64\n",
            " 54  wtd_gmean_FusionHeat             21263 non-null  float64\n",
            " 55  entropy_FusionHeat               21263 non-null  float64\n",
            " 56  wtd_entropy_FusionHeat           21263 non-null  float64\n",
            " 57  range_FusionHeat                 21263 non-null  float64\n",
            " 58  wtd_range_FusionHeat             21263 non-null  float64\n",
            " 59  std_FusionHeat                   21263 non-null  float64\n",
            " 60  wtd_std_FusionHeat               21263 non-null  float64\n",
            " 61  mean_ThermalConductivity         21263 non-null  float64\n",
            " 62  wtd_mean_ThermalConductivity     21263 non-null  float64\n",
            " 63  gmean_ThermalConductivity        21263 non-null  float64\n",
            " 64  wtd_gmean_ThermalConductivity    21263 non-null  float64\n",
            " 65  entropy_ThermalConductivity      21263 non-null  float64\n",
            " 66  wtd_entropy_ThermalConductivity  21263 non-null  float64\n",
            " 67  range_ThermalConductivity        21263 non-null  float64\n",
            " 68  wtd_range_ThermalConductivity    21263 non-null  float64\n",
            " 69  std_ThermalConductivity          21263 non-null  float64\n",
            " 70  wtd_std_ThermalConductivity      21263 non-null  float64\n",
            " 71  mean_Valence                     21263 non-null  float64\n",
            " 72  wtd_mean_Valence                 21263 non-null  float64\n",
            " 73  gmean_Valence                    21263 non-null  float64\n",
            " 74  wtd_gmean_Valence                21263 non-null  float64\n",
            " 75  entropy_Valence                  21263 non-null  float64\n",
            " 76  wtd_entropy_Valence              21263 non-null  float64\n",
            " 77  range_Valence                    21263 non-null  int64  \n",
            " 78  wtd_range_Valence                21263 non-null  float64\n",
            " 79  std_Valence                      21263 non-null  float64\n",
            " 80  wtd_std_Valence                  21263 non-null  float64\n",
            " 81  critical_temp                    21263 non-null  float64\n",
            "dtypes: float64(79), int64(3)\n",
            "memory usage: 13.3 MB\n"
          ]
        }
      ],
      "source": [
        "data.info()   # Information about the columns of the dataset - name, datatype, count of non-null values"
      ]
    },
    {
      "cell_type": "code",
      "execution_count": 5,
      "metadata": {
        "colab": {
          "base_uri": "https://localhost:8080/"
        },
        "id": "egPCBDGDNC-X",
        "outputId": "243ec130-4fd0-45ab-aba1-950f8c6912df"
      },
      "outputs": [
        {
          "output_type": "stream",
          "name": "stdout",
          "text": [
            "This dataset has no missing values. No action required.\n"
          ]
        }
      ],
      "source": [
        "# Does this dataset have any missing values?\n",
        "\n",
        "if(data.isnull().values.any() == True):\n",
        "  print(\"This dataset has some missing values which need to be handled\")\n",
        "  data = data.dropna()  # Rows with missing values (if any) are dropped\n",
        "\n",
        "else:\n",
        "  print(\"This dataset has no missing values. No action required.\")"
      ]
    },
    {
      "cell_type": "code",
      "execution_count": 6,
      "metadata": {
        "colab": {
          "base_uri": "https://localhost:8080/"
        },
        "id": "4VLtuvljNfk9",
        "outputId": "e389f6a9-e2eb-44a9-f7a1-419bc8db75ea"
      },
      "outputs": [
        {
          "output_type": "stream",
          "name": "stdout",
          "text": [
            "This dataset has 66 duplicated rows\n",
            "\n",
            "The duplicate rows have been dropped from the dataset now\n"
          ]
        }
      ],
      "source": [
        "# Does this dataset have any duplicate rows?\n",
        "\n",
        "if(data.duplicated().values.any() == True):\n",
        "  ndup = data[data.duplicated()].shape[0]\n",
        "  print(f\"This dataset has {ndup} duplicated rows\")\n",
        "  data = data.drop_duplicates()  # Rows with duplicate values (if any) are dropped\n",
        "  print(\"\\nThe duplicate rows have been dropped from the dataset now\")\n",
        "\n",
        "else:\n",
        "  print(\"This dataset has no duplicated rows. No action required\")\n",
        "\n"
      ]
    },
    {
      "cell_type": "code",
      "execution_count": 7,
      "metadata": {
        "colab": {
          "base_uri": "https://localhost:8080/"
        },
        "id": "mksIcHBCLzCW",
        "outputId": "054c480d-5832-4020-d7a7-709c90e2f6d8"
      },
      "outputs": [
        {
          "output_type": "execute_result",
          "data": {
            "text/plain": [
              "(21197, 82)"
            ]
          },
          "metadata": {},
          "execution_count": 7
        }
      ],
      "source": [
        "# Dataset shape after handling missing values and duplicates\n",
        "data.shape"
      ]
    },
    {
      "cell_type": "code",
      "execution_count": 8,
      "metadata": {
        "colab": {
          "base_uri": "https://localhost:8080/",
          "height": 393
        },
        "id": "CQYcNA1gLzCW",
        "outputId": "6d1a9cd0-f87b-4d3c-83a1-4323bd6635da"
      },
      "outputs": [
        {
          "output_type": "execute_result",
          "data": {
            "text/plain": [
              "       number_of_elements  mean_atomic_mass  wtd_mean_atomic_mass  \\\n",
              "count        21197.000000      21197.000000          21197.000000   \n",
              "mean             4.120300         87.544201             72.945331   \n",
              "std              1.438282         29.643136             33.460789   \n",
              "min              1.000000          6.941000              6.423452   \n",
              "25%              3.000000         72.522475             52.143839   \n",
              "50%              4.000000         84.922750             60.689236   \n",
              "75%              5.000000        100.374260             85.982703   \n",
              "max              9.000000        208.980400            208.980400   \n",
              "\n",
              "       gmean_atomic_mass  wtd_gmean_atomic_mass  entropy_atomic_mass  \\\n",
              "count       21197.000000           21197.000000         21197.000000   \n",
              "mean           71.253164              58.474874             1.166782   \n",
              "std            30.990774              36.615381             0.364712   \n",
              "min             5.320573               1.960849             0.000000   \n",
              "25%            58.041225              35.247208             0.972995   \n",
              "50%            66.361592              39.873869             1.199541   \n",
              "75%            78.019689              73.056021             1.444537   \n",
              "max           208.980400             208.980400             1.983797   \n",
              "\n",
              "       wtd_entropy_atomic_mass  range_atomic_mass  wtd_range_atomic_mass  \\\n",
              "count             21197.000000       21197.000000           21197.000000   \n",
              "mean                  1.065103         115.751945              33.204053   \n",
              "std                   0.401225          54.584784              26.966285   \n",
              "min                   0.000000           0.000000               0.000000   \n",
              "25%                   0.781227          78.899680              16.799962   \n",
              "50%                   1.148465         122.906070              26.601500   \n",
              "75%                   1.360388         154.119320              38.336200   \n",
              "max                   1.958203         207.972460             205.589910   \n",
              "\n",
              "       std_atomic_mass  ...  wtd_mean_Valence  gmean_Valence  \\\n",
              "count     21197.000000  ...      21197.000000   21197.000000   \n",
              "mean         44.436401  ...          3.148856       3.052542   \n",
              "std          20.019732  ...          1.189878       1.044637   \n",
              "min           0.000000  ...          1.000000       1.000000   \n",
              "25%          32.890369  ...          2.116279       2.267933   \n",
              "50%          45.123500  ...          2.605455       2.615321   \n",
              "75%          59.356406  ...          4.007317       3.662842   \n",
              "max         101.019700  ...          7.000000       7.000000   \n",
              "\n",
              "       wtd_gmean_Valence  entropy_Valence  wtd_entropy_Valence  range_Valence  \\\n",
              "count       21197.000000     21197.000000         21197.000000   21197.000000   \n",
              "mean            3.051485         1.297020             1.053977       2.042553   \n",
              "std             1.173221         0.392834             0.380121       1.243242   \n",
              "min             1.000000         0.000000             0.000000       0.000000   \n",
              "25%             2.090896         1.060857             0.778998       1.000000   \n",
              "50%             2.428047         1.368922             1.169665       2.000000   \n",
              "75%             3.909523         1.589027             1.331531       3.000000   \n",
              "max             7.000000         2.141963             1.949739       6.000000   \n",
              "\n",
              "       wtd_range_Valence   std_Valence  wtd_std_Valence  critical_temp  \n",
              "count       21197.000000  21197.000000     21197.000000   21197.000000  \n",
              "mean            1.480890      0.839692         0.674168      34.494532  \n",
              "std             0.977545      0.485002         0.456038      34.276465  \n",
              "min             0.000000      0.000000         0.000000       0.000210  \n",
              "25%             0.921250      0.451754         0.306892       5.380000  \n",
              "50%             1.062857      0.800000         0.500000      20.000000  \n",
              "75%             1.910400      1.200000         1.021023      63.000000  \n",
              "max             6.992200      3.000000         3.000000     185.000000  \n",
              "\n",
              "[8 rows x 82 columns]"
            ],
            "text/html": [
              "\n",
              "  <div id=\"df-eb99581f-e76a-44be-96eb-7d07ed018f14\">\n",
              "    <div class=\"colab-df-container\">\n",
              "      <div>\n",
              "<style scoped>\n",
              "    .dataframe tbody tr th:only-of-type {\n",
              "        vertical-align: middle;\n",
              "    }\n",
              "\n",
              "    .dataframe tbody tr th {\n",
              "        vertical-align: top;\n",
              "    }\n",
              "\n",
              "    .dataframe thead th {\n",
              "        text-align: right;\n",
              "    }\n",
              "</style>\n",
              "<table border=\"1\" class=\"dataframe\">\n",
              "  <thead>\n",
              "    <tr style=\"text-align: right;\">\n",
              "      <th></th>\n",
              "      <th>number_of_elements</th>\n",
              "      <th>mean_atomic_mass</th>\n",
              "      <th>wtd_mean_atomic_mass</th>\n",
              "      <th>gmean_atomic_mass</th>\n",
              "      <th>wtd_gmean_atomic_mass</th>\n",
              "      <th>entropy_atomic_mass</th>\n",
              "      <th>wtd_entropy_atomic_mass</th>\n",
              "      <th>range_atomic_mass</th>\n",
              "      <th>wtd_range_atomic_mass</th>\n",
              "      <th>std_atomic_mass</th>\n",
              "      <th>...</th>\n",
              "      <th>wtd_mean_Valence</th>\n",
              "      <th>gmean_Valence</th>\n",
              "      <th>wtd_gmean_Valence</th>\n",
              "      <th>entropy_Valence</th>\n",
              "      <th>wtd_entropy_Valence</th>\n",
              "      <th>range_Valence</th>\n",
              "      <th>wtd_range_Valence</th>\n",
              "      <th>std_Valence</th>\n",
              "      <th>wtd_std_Valence</th>\n",
              "      <th>critical_temp</th>\n",
              "    </tr>\n",
              "  </thead>\n",
              "  <tbody>\n",
              "    <tr>\n",
              "      <th>count</th>\n",
              "      <td>21197.000000</td>\n",
              "      <td>21197.000000</td>\n",
              "      <td>21197.000000</td>\n",
              "      <td>21197.000000</td>\n",
              "      <td>21197.000000</td>\n",
              "      <td>21197.000000</td>\n",
              "      <td>21197.000000</td>\n",
              "      <td>21197.000000</td>\n",
              "      <td>21197.000000</td>\n",
              "      <td>21197.000000</td>\n",
              "      <td>...</td>\n",
              "      <td>21197.000000</td>\n",
              "      <td>21197.000000</td>\n",
              "      <td>21197.000000</td>\n",
              "      <td>21197.000000</td>\n",
              "      <td>21197.000000</td>\n",
              "      <td>21197.000000</td>\n",
              "      <td>21197.000000</td>\n",
              "      <td>21197.000000</td>\n",
              "      <td>21197.000000</td>\n",
              "      <td>21197.000000</td>\n",
              "    </tr>\n",
              "    <tr>\n",
              "      <th>mean</th>\n",
              "      <td>4.120300</td>\n",
              "      <td>87.544201</td>\n",
              "      <td>72.945331</td>\n",
              "      <td>71.253164</td>\n",
              "      <td>58.474874</td>\n",
              "      <td>1.166782</td>\n",
              "      <td>1.065103</td>\n",
              "      <td>115.751945</td>\n",
              "      <td>33.204053</td>\n",
              "      <td>44.436401</td>\n",
              "      <td>...</td>\n",
              "      <td>3.148856</td>\n",
              "      <td>3.052542</td>\n",
              "      <td>3.051485</td>\n",
              "      <td>1.297020</td>\n",
              "      <td>1.053977</td>\n",
              "      <td>2.042553</td>\n",
              "      <td>1.480890</td>\n",
              "      <td>0.839692</td>\n",
              "      <td>0.674168</td>\n",
              "      <td>34.494532</td>\n",
              "    </tr>\n",
              "    <tr>\n",
              "      <th>std</th>\n",
              "      <td>1.438282</td>\n",
              "      <td>29.643136</td>\n",
              "      <td>33.460789</td>\n",
              "      <td>30.990774</td>\n",
              "      <td>36.615381</td>\n",
              "      <td>0.364712</td>\n",
              "      <td>0.401225</td>\n",
              "      <td>54.584784</td>\n",
              "      <td>26.966285</td>\n",
              "      <td>20.019732</td>\n",
              "      <td>...</td>\n",
              "      <td>1.189878</td>\n",
              "      <td>1.044637</td>\n",
              "      <td>1.173221</td>\n",
              "      <td>0.392834</td>\n",
              "      <td>0.380121</td>\n",
              "      <td>1.243242</td>\n",
              "      <td>0.977545</td>\n",
              "      <td>0.485002</td>\n",
              "      <td>0.456038</td>\n",
              "      <td>34.276465</td>\n",
              "    </tr>\n",
              "    <tr>\n",
              "      <th>min</th>\n",
              "      <td>1.000000</td>\n",
              "      <td>6.941000</td>\n",
              "      <td>6.423452</td>\n",
              "      <td>5.320573</td>\n",
              "      <td>1.960849</td>\n",
              "      <td>0.000000</td>\n",
              "      <td>0.000000</td>\n",
              "      <td>0.000000</td>\n",
              "      <td>0.000000</td>\n",
              "      <td>0.000000</td>\n",
              "      <td>...</td>\n",
              "      <td>1.000000</td>\n",
              "      <td>1.000000</td>\n",
              "      <td>1.000000</td>\n",
              "      <td>0.000000</td>\n",
              "      <td>0.000000</td>\n",
              "      <td>0.000000</td>\n",
              "      <td>0.000000</td>\n",
              "      <td>0.000000</td>\n",
              "      <td>0.000000</td>\n",
              "      <td>0.000210</td>\n",
              "    </tr>\n",
              "    <tr>\n",
              "      <th>25%</th>\n",
              "      <td>3.000000</td>\n",
              "      <td>72.522475</td>\n",
              "      <td>52.143839</td>\n",
              "      <td>58.041225</td>\n",
              "      <td>35.247208</td>\n",
              "      <td>0.972995</td>\n",
              "      <td>0.781227</td>\n",
              "      <td>78.899680</td>\n",
              "      <td>16.799962</td>\n",
              "      <td>32.890369</td>\n",
              "      <td>...</td>\n",
              "      <td>2.116279</td>\n",
              "      <td>2.267933</td>\n",
              "      <td>2.090896</td>\n",
              "      <td>1.060857</td>\n",
              "      <td>0.778998</td>\n",
              "      <td>1.000000</td>\n",
              "      <td>0.921250</td>\n",
              "      <td>0.451754</td>\n",
              "      <td>0.306892</td>\n",
              "      <td>5.380000</td>\n",
              "    </tr>\n",
              "    <tr>\n",
              "      <th>50%</th>\n",
              "      <td>4.000000</td>\n",
              "      <td>84.922750</td>\n",
              "      <td>60.689236</td>\n",
              "      <td>66.361592</td>\n",
              "      <td>39.873869</td>\n",
              "      <td>1.199541</td>\n",
              "      <td>1.148465</td>\n",
              "      <td>122.906070</td>\n",
              "      <td>26.601500</td>\n",
              "      <td>45.123500</td>\n",
              "      <td>...</td>\n",
              "      <td>2.605455</td>\n",
              "      <td>2.615321</td>\n",
              "      <td>2.428047</td>\n",
              "      <td>1.368922</td>\n",
              "      <td>1.169665</td>\n",
              "      <td>2.000000</td>\n",
              "      <td>1.062857</td>\n",
              "      <td>0.800000</td>\n",
              "      <td>0.500000</td>\n",
              "      <td>20.000000</td>\n",
              "    </tr>\n",
              "    <tr>\n",
              "      <th>75%</th>\n",
              "      <td>5.000000</td>\n",
              "      <td>100.374260</td>\n",
              "      <td>85.982703</td>\n",
              "      <td>78.019689</td>\n",
              "      <td>73.056021</td>\n",
              "      <td>1.444537</td>\n",
              "      <td>1.360388</td>\n",
              "      <td>154.119320</td>\n",
              "      <td>38.336200</td>\n",
              "      <td>59.356406</td>\n",
              "      <td>...</td>\n",
              "      <td>4.007317</td>\n",
              "      <td>3.662842</td>\n",
              "      <td>3.909523</td>\n",
              "      <td>1.589027</td>\n",
              "      <td>1.331531</td>\n",
              "      <td>3.000000</td>\n",
              "      <td>1.910400</td>\n",
              "      <td>1.200000</td>\n",
              "      <td>1.021023</td>\n",
              "      <td>63.000000</td>\n",
              "    </tr>\n",
              "    <tr>\n",
              "      <th>max</th>\n",
              "      <td>9.000000</td>\n",
              "      <td>208.980400</td>\n",
              "      <td>208.980400</td>\n",
              "      <td>208.980400</td>\n",
              "      <td>208.980400</td>\n",
              "      <td>1.983797</td>\n",
              "      <td>1.958203</td>\n",
              "      <td>207.972460</td>\n",
              "      <td>205.589910</td>\n",
              "      <td>101.019700</td>\n",
              "      <td>...</td>\n",
              "      <td>7.000000</td>\n",
              "      <td>7.000000</td>\n",
              "      <td>7.000000</td>\n",
              "      <td>2.141963</td>\n",
              "      <td>1.949739</td>\n",
              "      <td>6.000000</td>\n",
              "      <td>6.992200</td>\n",
              "      <td>3.000000</td>\n",
              "      <td>3.000000</td>\n",
              "      <td>185.000000</td>\n",
              "    </tr>\n",
              "  </tbody>\n",
              "</table>\n",
              "<p>8 rows × 82 columns</p>\n",
              "</div>\n",
              "      <button class=\"colab-df-convert\" onclick=\"convertToInteractive('df-eb99581f-e76a-44be-96eb-7d07ed018f14')\"\n",
              "              title=\"Convert this dataframe to an interactive table.\"\n",
              "              style=\"display:none;\">\n",
              "        \n",
              "  <svg xmlns=\"http://www.w3.org/2000/svg\" height=\"24px\"viewBox=\"0 0 24 24\"\n",
              "       width=\"24px\">\n",
              "    <path d=\"M0 0h24v24H0V0z\" fill=\"none\"/>\n",
              "    <path d=\"M18.56 5.44l.94 2.06.94-2.06 2.06-.94-2.06-.94-.94-2.06-.94 2.06-2.06.94zm-11 1L8.5 8.5l.94-2.06 2.06-.94-2.06-.94L8.5 2.5l-.94 2.06-2.06.94zm10 10l.94 2.06.94-2.06 2.06-.94-2.06-.94-.94-2.06-.94 2.06-2.06.94z\"/><path d=\"M17.41 7.96l-1.37-1.37c-.4-.4-.92-.59-1.43-.59-.52 0-1.04.2-1.43.59L10.3 9.45l-7.72 7.72c-.78.78-.78 2.05 0 2.83L4 21.41c.39.39.9.59 1.41.59.51 0 1.02-.2 1.41-.59l7.78-7.78 2.81-2.81c.8-.78.8-2.07 0-2.86zM5.41 20L4 18.59l7.72-7.72 1.47 1.35L5.41 20z\"/>\n",
              "  </svg>\n",
              "      </button>\n",
              "      \n",
              "  <style>\n",
              "    .colab-df-container {\n",
              "      display:flex;\n",
              "      flex-wrap:wrap;\n",
              "      gap: 12px;\n",
              "    }\n",
              "\n",
              "    .colab-df-convert {\n",
              "      background-color: #E8F0FE;\n",
              "      border: none;\n",
              "      border-radius: 50%;\n",
              "      cursor: pointer;\n",
              "      display: none;\n",
              "      fill: #1967D2;\n",
              "      height: 32px;\n",
              "      padding: 0 0 0 0;\n",
              "      width: 32px;\n",
              "    }\n",
              "\n",
              "    .colab-df-convert:hover {\n",
              "      background-color: #E2EBFA;\n",
              "      box-shadow: 0px 1px 2px rgba(60, 64, 67, 0.3), 0px 1px 3px 1px rgba(60, 64, 67, 0.15);\n",
              "      fill: #174EA6;\n",
              "    }\n",
              "\n",
              "    [theme=dark] .colab-df-convert {\n",
              "      background-color: #3B4455;\n",
              "      fill: #D2E3FC;\n",
              "    }\n",
              "\n",
              "    [theme=dark] .colab-df-convert:hover {\n",
              "      background-color: #434B5C;\n",
              "      box-shadow: 0px 1px 3px 1px rgba(0, 0, 0, 0.15);\n",
              "      filter: drop-shadow(0px 1px 2px rgba(0, 0, 0, 0.3));\n",
              "      fill: #FFFFFF;\n",
              "    }\n",
              "  </style>\n",
              "\n",
              "      <script>\n",
              "        const buttonEl =\n",
              "          document.querySelector('#df-eb99581f-e76a-44be-96eb-7d07ed018f14 button.colab-df-convert');\n",
              "        buttonEl.style.display =\n",
              "          google.colab.kernel.accessAllowed ? 'block' : 'none';\n",
              "\n",
              "        async function convertToInteractive(key) {\n",
              "          const element = document.querySelector('#df-eb99581f-e76a-44be-96eb-7d07ed018f14');\n",
              "          const dataTable =\n",
              "            await google.colab.kernel.invokeFunction('convertToInteractive',\n",
              "                                                     [key], {});\n",
              "          if (!dataTable) return;\n",
              "\n",
              "          const docLinkHtml = 'Like what you see? Visit the ' +\n",
              "            '<a target=\"_blank\" href=https://colab.research.google.com/notebooks/data_table.ipynb>data table notebook</a>'\n",
              "            + ' to learn more about interactive tables.';\n",
              "          element.innerHTML = '';\n",
              "          dataTable['output_type'] = 'display_data';\n",
              "          await google.colab.output.renderOutput(dataTable, element);\n",
              "          const docLink = document.createElement('div');\n",
              "          docLink.innerHTML = docLinkHtml;\n",
              "          element.appendChild(docLink);\n",
              "        }\n",
              "      </script>\n",
              "    </div>\n",
              "  </div>\n",
              "  "
            ]
          },
          "metadata": {},
          "execution_count": 8
        }
      ],
      "source": [
        "data.describe()     # Gives a descriptive statistical summary of the data columns"
      ]
    },
    {
      "cell_type": "markdown",
      "source": [
        "# Feature Selection"
      ],
      "metadata": {
        "id": "6HZ2k-EweD6S"
      }
    },
    {
      "cell_type": "markdown",
      "source": [
        "Creating an alternate dataset with certain features selected based on their correlation values. The bottom 25 percentile of the features ranked by their correlation values are dropped."
      ],
      "metadata": {
        "id": "3SaBTDcFh-Yj"
      }
    },
    {
      "cell_type": "code",
      "execution_count": 9,
      "metadata": {
        "colab": {
          "base_uri": "https://localhost:8080/",
          "height": 656
        },
        "id": "1FADbfoeLzCZ",
        "outputId": "1d4b4e78-40d3-4477-8642-e64d2be1e7b4"
      },
      "outputs": [
        {
          "output_type": "execute_result",
          "data": {
            "text/plain": [
              "(array([3., 1., 2., 0., 0., 4., 1., 7., 2., 4., 1., 1., 4., 0., 3., 3., 0.,\n",
              "        1., 0., 0., 0., 4., 1., 0., 2., 1., 3., 2., 1., 4., 3., 1., 2., 1.,\n",
              "        2., 6., 6., 2., 1., 2.]),\n",
              " array([-0.63192366, -0.59810156, -0.56427946, -0.53045736, -0.49663526,\n",
              "        -0.46281316, -0.42899106, -0.39516896, -0.36134686, -0.32752476,\n",
              "        -0.29370266, -0.25988057, -0.22605847, -0.19223637, -0.15841427,\n",
              "        -0.12459217, -0.09077007, -0.05694797, -0.02312587,  0.01069623,\n",
              "         0.04451833,  0.07834043,  0.11216253,  0.14598463,  0.17980672,\n",
              "         0.21362882,  0.24745092,  0.28127302,  0.31509512,  0.34891722,\n",
              "         0.38273932,  0.41656142,  0.45038352,  0.48420562,  0.51802772,\n",
              "         0.55184982,  0.58567192,  0.61949401,  0.65331611,  0.68713821,\n",
              "         0.72096031]),\n",
              " <BarContainer object of 40 artists>)"
            ]
          },
          "metadata": {},
          "execution_count": 9
        },
        {
          "output_type": "display_data",
          "data": {
            "text/plain": [
              "<Figure size 640x480 with 1 Axes>"
            ],
            "image/png": "[encoded data removed]"
          },
          "metadata": {}
        }
      ],
      "source": [
        "# Histogram of correlation values of features with target variable critical_temp\n",
        "\n",
        "correlation = data.corr()\n",
        "correlation = correlation.drop('critical_temp', axis=0)\n",
        "plt.hist(correlation['critical_temp'], bins=40)"
      ]
    },
    {
      "cell_type": "code",
      "execution_count": 10,
      "metadata": {
        "colab": {
          "base_uri": "https://localhost:8080/"
        },
        "id": "I5UCwSfpLzCa",
        "outputId": "61582f98-ed67-42b4-ff90-00ad78bf0f1e"
      },
      "outputs": [
        {
          "output_type": "stream",
          "name": "stdout",
          "text": [
            "number_of_elements, 0.600394055182847\n",
            "mean_atomic_mass, -0.11317839649303417\n",
            "wtd_mean_atomic_mass, -0.3119832502072971\n",
            "gmean_atomic_mass, -0.22994106405006937\n",
            "wtd_gmean_atomic_mass, -0.3694840714111939\n",
            "entropy_atomic_mass, 0.5428941726044171\n",
            "wtd_entropy_atomic_mass, 0.6265356613492065\n",
            "range_atomic_mass, 0.4916424215328923\n",
            "wtd_range_atomic_mass, -0.3372375169225366\n",
            "std_atomic_mass, 0.378519448391443\n",
            "wtd_std_atomic_mass, 0.35892821196282804\n",
            "mean_fie, 0.10140062987501358\n",
            "wtd_mean_fie, 0.3978883959339062\n",
            "gmean_fie, -0.025680476288429257\n",
            "wtd_gmean_fie, 0.3428140319387177\n",
            "entropy_fie, 0.5671556479141354\n",
            "wtd_entropy_fie, 0.3877026432771749\n",
            "range_fie, 0.6001786440355417\n",
            "wtd_range_fie, 0.29963177976562727\n",
            "std_fie, 0.5410910690832423\n",
            "wtd_std_fie, 0.5814422035843121\n",
            "mean_atomic_radius, 0.10610167692790742\n",
            "wtd_mean_atomic_radius, -0.29606092702537734\n",
            "gmean_atomic_radius, -0.14266782717596035\n",
            "wtd_gmean_atomic_radius, -0.4042285854629204\n",
            "entropy_atomic_radius, 0.5582491219463678\n",
            "wtd_entropy_atomic_radius, 0.6029857425181072\n",
            "range_atomic_radius, 0.6533940754080718\n",
            "wtd_range_atomic_radius, -0.3436932854617031\n",
            "std_atomic_radius, 0.5591324616314539\n",
            "wtd_std_atomic_radius, 0.5989715195377009\n",
            "mean_Density, -0.3677433259068467\n",
            "wtd_mean_Density, -0.43346572642684544\n",
            "gmean_Density, -0.5411319269888313\n",
            "wtd_gmean_Density, -0.5394477615913035\n",
            "entropy_Density, 0.4564919111422076\n",
            "wtd_entropy_Density, 0.4000232128730575\n",
            "range_Density, 0.26027158350102375\n",
            "wtd_range_Density, -0.28465233164237097\n",
            "std_Density, 0.11519520597369032\n",
            "wtd_std_Density, 0.20756940955483535\n",
            "mean_ElectronAffinity, -0.19359074875549878\n",
            "wtd_mean_ElectronAffinity, 0.11105586326885865\n",
            "gmean_ElectronAffinity, -0.3801584285902911\n",
            "wtd_gmean_ElectronAffinity, -0.1074977942891853\n",
            "entropy_ElectronAffinity, 0.43635720404810685\n",
            "wtd_entropy_ElectronAffinity, 0.2370451595999248\n",
            "range_ElectronAffinity, 0.2788019928070346\n",
            "wtd_range_ElectronAffinity, 0.18450994483643496\n",
            "std_ElectronAffinity, 0.2614425503125756\n",
            "wtd_std_ElectronAffinity, 0.3148358464654809\n",
            "mean_FusionHeat, -0.3848870237466802\n",
            "wtd_mean_FusionHeat, -0.39376200445202775\n",
            "gmean_FusionHeat, -0.43101539275502077\n",
            "wtd_gmean_FusionHeat, -0.4315777958037105\n",
            "entropy_FusionHeat, 0.5520686477384247\n",
            "wtd_entropy_FusionHeat, 0.5628077787410228\n",
            "range_FusionHeat, -0.14048887740632024\n",
            "wtd_range_FusionHeat, -0.31435424001525125\n",
            "std_FusionHeat, -0.20112082632513317\n",
            "wtd_std_FusionHeat, -0.1956067801623404\n",
            "mean_ThermalConductivity, 0.3756485130417502\n",
            "wtd_mean_ThermalConductivity, 0.37917268904170637\n",
            "gmean_ThermalConductivity, -0.3865092332585615\n",
            "wtd_gmean_ThermalConductivity, -0.3709293749947105\n",
            "entropy_ThermalConductivity, 0.0859687383549635\n",
            "wtd_entropy_ThermalConductivity, -0.11629091167233235\n",
            "range_ThermalConductivity, 0.6872821341983691\n",
            "wtd_range_ThermalConductivity, 0.46905338045855316\n",
            "std_ThermalConductivity, 0.6532321929979584\n",
            "wtd_std_ThermalConductivity, 0.7209603122402327\n",
            "mean_Valence, -0.5994889191382522\n",
            "wtd_mean_Valence, -0.6319236572051052\n",
            "gmean_Valence, -0.572392004764183\n",
            "wtd_gmean_Valence, -0.6151302940448967\n",
            "entropy_Valence, 0.5980243504899588\n",
            "wtd_entropy_Valence, 0.5892039879305733\n",
            "range_Valence, -0.14462877446879896\n",
            "wtd_range_Valence, -0.43985399097217753\n",
            "std_Valence, -0.20889886474076935\n",
            "wtd_std_Valence, -0.30066634314560603\n"
          ]
        }
      ],
      "source": [
        "# Inspecting the correlation value for each feature\n",
        "\n",
        "for k, v in correlation['critical_temp'].items():\n",
        "    print(f\"{k}, {v}\")"
      ]
    },
    {
      "cell_type": "code",
      "execution_count": 17,
      "metadata": {
        "colab": {
          "base_uri": "https://localhost:8080/"
        },
        "id": "VeH3SOr3LzCc",
        "outputId": "569229ef-7edb-4139-a730-3a065ab3d49d"
      },
      "outputs": [
        {
          "output_type": "stream",
          "name": "stdout",
          "text": [
            "<class 'pandas.core.frame.DataFrame'>\n",
            "Int64Index: 21197 entries, 0 to 21262\n",
            "Data columns (total 62 columns):\n",
            " #   Column                         Non-Null Count  Dtype  \n",
            "---  ------                         --------------  -----  \n",
            " 0   number_of_elements             21197 non-null  int64  \n",
            " 1   wtd_mean_atomic_mass           21197 non-null  float64\n",
            " 2   wtd_gmean_atomic_mass          21197 non-null  float64\n",
            " 3   entropy_atomic_mass            21197 non-null  float64\n",
            " 4   wtd_entropy_atomic_mass        21197 non-null  float64\n",
            " 5   range_atomic_mass              21197 non-null  float64\n",
            " 6   wtd_range_atomic_mass          21197 non-null  float64\n",
            " 7   std_atomic_mass                21197 non-null  float64\n",
            " 8   wtd_std_atomic_mass            21197 non-null  float64\n",
            " 9   wtd_mean_fie                   21197 non-null  float64\n",
            " 10  wtd_gmean_fie                  21197 non-null  float64\n",
            " 11  entropy_fie                    21197 non-null  float64\n",
            " 12  wtd_entropy_fie                21197 non-null  float64\n",
            " 13  range_fie                      21197 non-null  float64\n",
            " 14  wtd_range_fie                  21197 non-null  float64\n",
            " 15  std_fie                        21197 non-null  float64\n",
            " 16  wtd_std_fie                    21197 non-null  float64\n",
            " 17  wtd_mean_atomic_radius         21197 non-null  float64\n",
            " 18  wtd_gmean_atomic_radius        21197 non-null  float64\n",
            " 19  entropy_atomic_radius          21197 non-null  float64\n",
            " 20  wtd_entropy_atomic_radius      21197 non-null  float64\n",
            " 21  range_atomic_radius            21197 non-null  int64  \n",
            " 22  wtd_range_atomic_radius        21197 non-null  float64\n",
            " 23  std_atomic_radius              21197 non-null  float64\n",
            " 24  wtd_std_atomic_radius          21197 non-null  float64\n",
            " 25  mean_Density                   21197 non-null  float64\n",
            " 26  wtd_mean_Density               21197 non-null  float64\n",
            " 27  gmean_Density                  21197 non-null  float64\n",
            " 28  wtd_gmean_Density              21197 non-null  float64\n",
            " 29  entropy_Density                21197 non-null  float64\n",
            " 30  wtd_entropy_Density            21197 non-null  float64\n",
            " 31  range_Density                  21197 non-null  float64\n",
            " 32  wtd_range_Density              21197 non-null  float64\n",
            " 33  gmean_ElectronAffinity         21197 non-null  float64\n",
            " 34  entropy_ElectronAffinity       21197 non-null  float64\n",
            " 35  range_ElectronAffinity         21197 non-null  float64\n",
            " 36  std_ElectronAffinity           21197 non-null  float64\n",
            " 37  wtd_std_ElectronAffinity       21197 non-null  float64\n",
            " 38  mean_FusionHeat                21197 non-null  float64\n",
            " 39  wtd_mean_FusionHeat            21197 non-null  float64\n",
            " 40  gmean_FusionHeat               21197 non-null  float64\n",
            " 41  wtd_gmean_FusionHeat           21197 non-null  float64\n",
            " 42  entropy_FusionHeat             21197 non-null  float64\n",
            " 43  wtd_entropy_FusionHeat         21197 non-null  float64\n",
            " 44  wtd_range_FusionHeat           21197 non-null  float64\n",
            " 45  mean_ThermalConductivity       21197 non-null  float64\n",
            " 46  wtd_mean_ThermalConductivity   21197 non-null  float64\n",
            " 47  gmean_ThermalConductivity      21197 non-null  float64\n",
            " 48  wtd_gmean_ThermalConductivity  21197 non-null  float64\n",
            " 49  range_ThermalConductivity      21197 non-null  float64\n",
            " 50  wtd_range_ThermalConductivity  21197 non-null  float64\n",
            " 51  std_ThermalConductivity        21197 non-null  float64\n",
            " 52  wtd_std_ThermalConductivity    21197 non-null  float64\n",
            " 53  mean_Valence                   21197 non-null  float64\n",
            " 54  wtd_mean_Valence               21197 non-null  float64\n",
            " 55  gmean_Valence                  21197 non-null  float64\n",
            " 56  wtd_gmean_Valence              21197 non-null  float64\n",
            " 57  entropy_Valence                21197 non-null  float64\n",
            " 58  wtd_entropy_Valence            21197 non-null  float64\n",
            " 59  wtd_range_Valence              21197 non-null  float64\n",
            " 60  wtd_std_Valence                21197 non-null  float64\n",
            " 61  critical_temp                  21197 non-null  float64\n",
            "dtypes: float64(60), int64(2)\n",
            "memory usage: 10.2 MB\n"
          ]
        }
      ],
      "source": [
        "# Drop every row in corr_abs, where the value of that row is less than or equal to 0.260928 and get the names of the rows dropped\n",
        "\n",
        "feature_names = []\n",
        "\n",
        "corr_abs = correlation['critical_temp'].abs()\n",
        "corr_abs = corr_abs[corr_abs < corr_abs.quantile(0.25)]\n",
        "\n",
        "for k, v in corr_abs.items():\n",
        "    feature_names.append(k)\n",
        "\n",
        "data_fs = data.copy()\n",
        "\n",
        "# Dropping columns that have a correlation value less than 0.26 (25% of the columns of the dataset)\n",
        "\n",
        "for col_name in feature_names:\n",
        "    data_fs = data_fs.drop(col_name, axis=1)\n",
        "\n",
        "data_fs.info() # Inspecting the remaining columns"
      ]
    },
    {
      "cell_type": "code",
      "execution_count": null,
      "metadata": {
        "id": "XKW-dY0az2Ma"
      },
      "outputs": [],
      "source": [
        "# Plotting Scatterplots of selected features against target variable along with correlation value\n",
        "\n",
        "features=[]\n",
        "for k, v in correlation['critical_temp'].items():\n",
        "  if abs(v)>0.5:\n",
        "    features.append(k)\n",
        "\n",
        "for k, v in correlation['critical_temp'].items():\n",
        "  if abs(v)>0.5:\n",
        "    try:\n",
        "        data.plot(kind='scatter', x=k, y='critical_temp', alpha=0.5)\n",
        "        plt.title(f\"Correlation: {v}\")\n",
        "        plt.figure(figsize=(10, 10))\n",
        "\n",
        "    except ValueError:\n",
        "        break;"
      ]
    },
    {
      "cell_type": "markdown",
      "source": [
        "# Baseline Model - Linear Regression"
      ],
      "metadata": {
        "id": "UoYpFNhreUGi"
      }
    },
    {
      "cell_type": "markdown",
      "source": [
        "## Without Feature Selection or Scaling"
      ],
      "metadata": {
        "id": "byVadeDCxUHG"
      }
    },
    {
      "cell_type": "code",
      "execution_count": 27,
      "metadata": {
        "id": "56fQ_gYxLzCh",
        "colab": {
          "base_uri": "https://localhost:8080/"
        },
        "outputId": "a6accac3-9215-44f8-ae8c-11afc42568dd"
      },
      "outputs": [
        {
          "output_type": "stream",
          "name": "stdout",
          "text": [
            "\n",
            "R2 score on test data:\n",
            " 0.7353599049008277\n",
            "\n",
            "Intercept:  -17.22853060306239\n",
            "\n",
            "Coefficients:  [-3.09507908e+00  8.41641994e-01 -8.89921694e-01 -4.91659752e-01\n",
            "  6.11205910e-01 -3.41077399e+01  4.81118660e+00  2.04170441e-01\n",
            "  3.98143036e-02 -5.22476944e-01  6.68546173e-02  1.48566506e-01\n",
            " -2.19443136e-01 -1.47743693e-01  2.42218557e-01 -1.21350716e+02\n",
            "  4.28194601e+01  6.58596203e-02  2.14650173e-02 -1.94739313e-01\n",
            " -8.07829424e-03 -4.07538012e-01  3.19648879e+00  3.94621389e-02\n",
            " -2.77676835e+00  7.86474325e+01  4.34005941e+01  2.07312535e-01\n",
            " -1.03318277e-01 -3.95836579e-01 -3.30474649e-01 -5.36959944e-03\n",
            "  3.93268922e-04  1.73164140e-03  1.89532150e-03  1.73390340e+01\n",
            " -2.13767137e+01 -1.55583329e-03 -2.13889022e-04  6.52676013e-03\n",
            " -1.94049248e-03 -1.09176251e-01  5.39529409e-01  1.98464364e-01\n",
            " -6.08598995e-01  3.73650996e+00 -2.19865013e+01 -3.81534182e-01\n",
            " -1.34725488e-01  1.28813466e+00 -5.77008779e-01  1.63763505e+00\n",
            " -1.88256104e+00 -1.42743648e+00  1.52568229e+00 -1.99151928e+01\n",
            "  2.65749228e+01 -3.38926184e-01  6.18570892e-01 -6.15529994e-01\n",
            "  7.29827800e-01 -7.21739792e-02  5.23447882e-01 -6.50827796e-02\n",
            " -3.15788081e-01  1.19412105e+01  1.14542555e+00 -8.79133867e-02\n",
            " -2.34321056e-01  2.84642684e-01 -6.82867170e-03 -1.60727800e+01\n",
            "  2.62520314e+01  2.03075761e+01 -3.02105902e+01  7.57913374e+01\n",
            " -6.83005166e+01  4.59855905e+00 -7.33377458e-01  7.48630398e+00\n",
            " -2.52171323e+01]\n"
          ]
        }
      ],
      "source": [
        "# Import Scikit Learn's train_test_split to split 'data' into 0.8 train and 0.2 test\n",
        "\n",
        "from sklearn.model_selection import train_test_split\n",
        "\n",
        "X = data.drop('critical_temp', axis=1)\n",
        "y = data['critical_temp']\n",
        "\n",
        "X_train, X_test, y_train, y_test = train_test_split(X, y, test_size=0.2, random_state=42)\n",
        "\n",
        "# Create a linear regression model and fit it to the training data\n",
        "\n",
        "from sklearn.linear_model import LinearRegression\n",
        "\n",
        "model = LinearRegression()\n",
        "model.fit(X_train, y_train)\n",
        "\n",
        "# Get the model's score on the testing data\n",
        "\n",
        "print('\\nR2 score on test data:\\n', model.score(X_test, y_test))\n",
        "\n",
        "# Get the model's intercept\n",
        "\n",
        "print('\\nIntercept: ', model.intercept_)\n",
        "\n",
        "# Get the model's coefficients\n",
        "\n",
        "print('\\nCoefficients: ', model.coef_)"
      ]
    },
    {
      "cell_type": "code",
      "source": [
        "# Get the model's predictions on the test data\n",
        "\n",
        "y_pred = model.predict(X_test)\n",
        "\n",
        "# Plot a scatter plot of the model's predictions vs the actual values\n",
        "\n",
        "plt.scatter(y_test, y_pred)\n",
        "plt.xlabel(\"Predicted values\")\n",
        "plt.ylabel(\"Actual values\")\n",
        "plt.title(\"Scatterplot of Actual values vs Predicted values\")\n",
        "plt.show()\n",
        "print('\\n')\n",
        "\n",
        "# Plot a histogram of the residuals\n",
        "\n",
        "plt.hist(y_test - y_pred)\n",
        "plt.title(\"Histogram of model's residual errors\")\n",
        "plt.show()"
      ],
      "metadata": {
        "colab": {
          "base_uri": "https://localhost:8080/",
          "height": 942
        },
        "id": "CUz3DL0n1xZb",
        "outputId": "41e23a30-bd55-40ad-8948-de0693ed802b"
      },
      "execution_count": 28,
      "outputs": [
        {
          "output_type": "display_data",
          "data": {
            "text/plain": [
              "<Figure size 640x480 with 1 Axes>"
            ],
            "image/png": "[encoded data removed]"
          },
          "metadata": {}
        },
        {
          "output_type": "stream",
          "name": "stdout",
          "text": [
            "\n",
            "\n"
          ]
        },
        {
          "output_type": "display_data",
          "data": {
            "text/plain": [
              "<Figure size 640x480 with 1 Axes>"
            ],
            "image/png": "[encoded data removed]"
          },
          "metadata": {}
        }
      ]
    },
    {
      "cell_type": "code",
      "source": [
        "# Do a cross validation of the model using 10 folds and print it in terms of avg +/- std\n",
        "\n",
        "from sklearn.model_selection import cross_val_score\n",
        "\n",
        "scores = cross_val_score(model, X_train, y_train, cv=10)\n",
        "print('\\n', scores.mean(), '+/-', scores.std())"
      ],
      "metadata": {
        "colab": {
          "base_uri": "https://localhost:8080/"
        },
        "id": "bLtvJece1kR-",
        "outputId": "53c73faa-0bfe-484e-c0f2-2794a206f33d"
      },
      "execution_count": 25,
      "outputs": [
        {
          "output_type": "stream",
          "name": "stdout",
          "text": [
            "\n",
            " 0.7337205416664668 +/- 0.01813007522420121\n"
          ]
        }
      ]
    },
    {
      "cell_type": "markdown",
      "source": [
        "## With Feature Selection"
      ],
      "metadata": {
        "id": "BVRdJUDhx1ml"
      }
    },
    {
      "cell_type": "markdown",
      "source": [
        "Using the `data_fs` dataset, which is a selection of only the top 75 percentile correlated features."
      ],
      "metadata": {
        "id": "GDDNHCrgx5Dc"
      }
    },
    {
      "cell_type": "code",
      "source": [
        "## Using feature selected dataset\n",
        "\n",
        "# Import Scikit Learn's train_test_split to split 'data' into 0.8 train and 0.2 test\n",
        "\n",
        "from sklearn.linear_model import LinearRegression\n",
        "\n",
        "X_fs = data_fs.drop('critical_temp', axis=1)\n",
        "y_fs = data_fs['critical_temp']\n",
        "\n",
        "X_train_fs, X_test_fs, y_train_fs, y_test_fs = train_test_split(X_fs, y_fs, test_size=0.2, random_state=42)\n",
        "\n",
        "# Creating a linear regression model and fit it to the training data\n",
        "\n",
        "from sklearn.model_selection import train_test_split\n",
        "\n",
        "model_fs = LinearRegression()\n",
        "model_fs.fit(X_train_fs, y_train_fs)\n",
        "\n",
        "# Getting the model's score on the testing data\n",
        "\n",
        "print('\\nR2 score on test data (w/ feature selection): \\n', model_fs.score(X_test_fs, y_test_fs))\n",
        "\n",
        "# Getting the model's intercept\n",
        "\n",
        "print('\\nIntercept: ', model_fs.intercept_)\n",
        "\n",
        "# Getting the model's coefficients\n",
        "\n",
        "print('\\nCoefficients: ', model_fs.coef_)"
      ],
      "metadata": {
        "colab": {
          "base_uri": "https://localhost:8080/"
        },
        "id": "N4Kxnh3MyJVx",
        "outputId": "cfec52a0-ae61-48c3-ce1c-1ec5262edbc0"
      },
      "execution_count": 29,
      "outputs": [
        {
          "output_type": "stream",
          "name": "stdout",
          "text": [
            "\n",
            "R2 score on test data (w/ feature selection): \n",
            " 0.7232760543024528\n",
            "\n",
            "Intercept:  -18.34436924787414\n",
            "\n",
            "Coefficients:  [-5.51102801e-01 -9.16046353e-02  1.69780981e-01 -3.09180432e+01\n",
            "  2.09016469e+01  2.29636084e-01 -9.21691667e-02 -1.01032513e-01\n",
            " -2.72391766e-01  4.20280507e-02 -2.82597132e-02  5.32545115e+01\n",
            "  4.13885830e+01  7.62106444e-02  6.61107508e-03 -1.21413499e-01\n",
            " -9.85695636e-02  2.14632013e+00 -2.04209721e+00 -1.56884993e+00\n",
            "  2.98640073e+01  1.93757697e-01 -8.08994244e-04 -7.82843021e-01\n",
            "  7.88987052e-02 -7.62902826e-04 -3.20503253e-03 -1.51611286e-03\n",
            "  3.95105679e-03 -1.10971754e+01 -1.16580622e+01 -3.45833998e-04\n",
            "  1.04840891e-03 -2.39816916e-02 -1.81683560e+01 -3.32892621e-01\n",
            "  8.82225962e-01 -1.62767193e-01  3.73549524e-01 -1.19085397e+00\n",
            " -3.80025291e-01  9.45998100e-01  1.48560896e+00  2.43853476e+01\n",
            "  5.26538144e-01 -1.18439888e-01  7.71239207e-01  1.97292797e-02\n",
            " -5.22922494e-01 -1.03396117e-01 -3.21969600e-01  3.70660088e-01\n",
            " -1.65284164e-01  9.67928230e+00 -2.39134968e+01 -1.21343633e+00\n",
            "  1.55929913e+01 -1.03250426e+01 -7.84172991e+01  4.86015494e-01\n",
            " -7.40166213e+00]\n"
          ]
        }
      ]
    },
    {
      "cell_type": "code",
      "source": [
        "# Get the model's predictions on the test data\n",
        "\n",
        "y_pred_fs = model_fs.predict(X_test_fs)\n",
        "\n",
        "# Plot a scatter plot of the model's predictions vs the actual values\n",
        "\n",
        "plt.scatter(y_test_fs, y_pred_fs)\n",
        "plt.xlabel(\"Predicted values\")\n",
        "plt.ylabel(\"Actual values\")\n",
        "plt.title(\"Scatterplot of Actual values vs Predicted values\")\n",
        "plt.show()\n",
        "print('\\n')\n",
        "\n",
        "# Plot a histogram of the residuals\n",
        "\n",
        "plt.hist(y_test_fs - y_pred_fs)\n",
        "plt.title(\"Histogram of model's residual errors\")\n",
        "plt.show()"
      ],
      "metadata": {
        "colab": {
          "base_uri": "https://localhost:8080/",
          "height": 942
        },
        "id": "nY7LD6AK19ve",
        "outputId": "ab869289-3c49-4ee3-a6ff-212b0ab4780d"
      },
      "execution_count": 30,
      "outputs": [
        {
          "output_type": "display_data",
          "data": {
            "text/plain": [
              "<Figure size 640x480 with 1 Axes>"
            ],
            "image/png": "[encoded data removed]"
          },
          "metadata": {}
        },
        {
          "output_type": "stream",
          "name": "stdout",
          "text": [
            "\n",
            "\n"
          ]
        },
        {
          "output_type": "display_data",
          "data": {
            "text/plain": [
              "<Figure size 640x480 with 1 Axes>"
            ],
            "image/png": "[encoded data removed]"
          },
          "metadata": {}
        }
      ]
    },
    {
      "cell_type": "code",
      "source": [
        "# Doing a cross validation of the model using 10 folds and print it in terms of avg +/- std\n",
        "\n",
        "from sklearn.model_selection import cross_val_score\n",
        "\n",
        "scores = cross_val_score(model_fs, X_train_fs, y_train_fs, cv=10)\n",
        "print('\\n', scores.mean(), '+/-', scores.std())"
      ],
      "metadata": {
        "colab": {
          "base_uri": "https://localhost:8080/"
        },
        "id": "vQe-FpFX1s3Y",
        "outputId": "c0bcb5d8-3114-42c6-8b22-c66e96909ee4"
      },
      "execution_count": 31,
      "outputs": [
        {
          "output_type": "stream",
          "name": "stdout",
          "text": [
            "\n",
            " 0.7165469130217834 +/- 0.019210403416915323\n"
          ]
        }
      ]
    },
    {
      "cell_type": "markdown",
      "source": [
        "## With Feature Scaling"
      ],
      "metadata": {
        "id": "bo0NSw0cw74p"
      }
    },
    {
      "cell_type": "code",
      "source": [
        "from sklearn.preprocessing import StandardScaler\n",
        "\n",
        "sc = StandardScaler()\n",
        "\n",
        "# Standard Scaling with feature selection\n",
        "\n",
        "sc.fit(X_train_fs)\n",
        "\n",
        "X_train_std = sc.transform(X_train_fs)\n",
        "X_test_std = sc.transform(X_test_fs)"
      ],
      "metadata": {
        "id": "zBRcGGYQw-hd"
      },
      "execution_count": 32,
      "outputs": []
    },
    {
      "cell_type": "code",
      "source": [
        "## Linear Regression with standard scaling\n",
        "\n",
        "# Creating a linear regression model and fit it to the training data\n",
        "\n",
        "model_std = LinearRegression()\n",
        "model_std.fit(X_train_std, y_train_fs)\n",
        "\n",
        "# Getting the model's score on the testing data\n",
        "\n",
        "print('\\nR2 score on test data (w/ feature selection and standardization:\\n', model_std.score(X_test_std, y_test_fs))\n",
        "\n",
        "# Getting the model's intercept\n",
        "\n",
        "print('\\nIntercepts', model_std.intercept_)\n",
        "\n",
        "# Getting the model's coefficients\n",
        "\n",
        "print('\\nCoefficients: ', model_std.coef_)"
      ],
      "metadata": {
        "colab": {
          "base_uri": "https://localhost:8080/"
        },
        "id": "c_lbnyHM3Pgj",
        "outputId": "1c66c559-1680-4261-afab-84f3babd3fa7"
      },
      "execution_count": 33,
      "outputs": [
        {
          "output_type": "stream",
          "name": "stdout",
          "text": [
            "\n",
            "R2 score on test data (w/ feature selection and standardization:\n",
            " 0.7232760543024641\n",
            "\n",
            "Intercepts 34.479813792239185\n",
            "\n",
            "Coefficients:  [-7.93958330e-01 -3.07429615e+00  6.23024972e+00 -1.13017607e+01\n",
            "  8.40123154e+00  1.25691464e+01 -2.50181647e+00 -2.02715114e+00\n",
            " -5.45491592e+00  6.01420908e+00 -3.38134201e+00  2.03802224e+01\n",
            "  1.38474698e+01  2.35588566e+01  1.48573174e+00 -1.33305206e+01\n",
            " -1.25904070e+01  6.18073061e+01 -7.31366260e+01 -5.90384720e-01\n",
            "  1.21696847e+01  1.30101233e+01 -2.82468396e-02 -1.79024569e+01\n",
            "  1.99047645e+00 -2.17965509e+00 -1.03766251e+01 -5.62990350e+00\n",
            "  1.57521976e+01 -3.80865977e+00 -3.74275809e+00 -1.41595311e+00\n",
            "  2.52799865e+00 -6.96617793e-01 -6.24259765e+00 -1.94510295e+01\n",
            "  1.90588984e+01 -3.29848336e+00  4.21543006e+00 -1.69558473e+01\n",
            " -3.82901164e+00  1.24214027e+01  5.60397145e-01  9.05623271e+00\n",
            "  5.97448951e+00 -4.55285037e+00  3.49507288e+01  6.72566132e-01\n",
            " -2.10230534e+01 -1.63898408e+01 -1.38151710e+01  2.22590901e+01\n",
            " -1.05072169e+01  1.01271769e+01 -2.85502396e+01 -1.27215796e+00\n",
            "  1.83617040e+01 -4.06402191e+00 -2.98675661e+01  4.74627556e-01\n",
            " -3.38918205e+00]\n"
          ]
        }
      ]
    },
    {
      "cell_type": "code",
      "source": [
        "# Get the model's predictions on the test data\n",
        "\n",
        "y_pred_std = model_std.predict(X_test_std)\n",
        "\n",
        "# Plot a scatter plot of the model's predictions vs the actual values\n",
        "\n",
        "plt.scatter(y_test_fs, y_pred_std)\n",
        "plt.xlabel(\"Predicted values\")\n",
        "plt.ylabel(\"Actual values\")\n",
        "plt.title(\"Scatterplot of Actual values vs Predicted values\")\n",
        "plt.show()\n",
        "print('\\n')\n",
        "\n",
        "# Plot a histogram of the residuals\n",
        "\n",
        "plt.hist(y_test_fs - y_pred_std)\n",
        "plt.title(\"Histogram of model's residual errors\")\n",
        "plt.show()"
      ],
      "metadata": {
        "colab": {
          "base_uri": "https://localhost:8080/",
          "height": 942
        },
        "id": "S6G_uoqb31_n",
        "outputId": "29cf7284-d403-4014-9ebb-2f4c9dc0a51f"
      },
      "execution_count": 34,
      "outputs": [
        {
          "output_type": "display_data",
          "data": {
            "text/plain": [
              "<Figure size 640x480 with 1 Axes>"
            ],
            "image/png": "[encoded data removed]"
          },
          "metadata": {}
        },
        {
          "output_type": "stream",
          "name": "stdout",
          "text": [
            "\n",
            "\n"
          ]
        },
        {
          "output_type": "display_data",
          "data": {
            "text/plain": [
              "<Figure size 640x480 with 1 Axes>"
            ],
            "image/png": "[encoded data removed]"
          },
          "metadata": {}
        }
      ]
    },
    {
      "cell_type": "code",
      "source": [
        "# Doing a cross validation of the model using 10 folds and print it in terms of avg +/- std\n",
        "\n",
        "scores_std = cross_val_score(model_std, X_train_std, y_train_fs, cv = 10)\n",
        "\n",
        "print('\\n', scores_std.mean(), '+/-', scores_std.std())"
      ],
      "metadata": {
        "colab": {
          "base_uri": "https://localhost:8080/"
        },
        "id": "hdcMI3zX4Cdi",
        "outputId": "4118f271-cddc-4208-abee-f997370ca58c"
      },
      "execution_count": 35,
      "outputs": [
        {
          "output_type": "stream",
          "name": "stdout",
          "text": [
            "\n",
            " 0.7165469130217896 +/- 0.01921040341692294\n"
          ]
        }
      ]
    }
  ],
  "metadata": {
    "colab": {
      "provenance": [],
      "collapsed_sections": [
        "BVRdJUDhx1ml",
        "bo0NSw0cw74p"
      ],
      "toc_visible": true
    },
    "kernelspec": {
      "display_name": "Python 3",
      "language": "python",
      "name": "python3"
    },
    "language_info": {
      "codemirror_mode": {
        "name": "ipython",
        "version": 3
      },
      "file_extension": ".py",
      "mimetype": "text/x-python",
      "name": "python",
      "nbconvert_exporter": "python",
      "pygments_lexer": "ipython3",
      "version": "3.10.6"
    }
  },
  "nbformat": 4,
  "nbformat_minor": 0
}